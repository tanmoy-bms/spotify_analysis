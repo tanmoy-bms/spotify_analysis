{
 "metadata": {
  "language_info": {
   "codemirror_mode": {
    "name": "ipython",
    "version": 3
   },
   "file_extension": ".py",
   "mimetype": "text/x-python",
   "name": "python",
   "nbconvert_exporter": "python",
   "pygments_lexer": "ipython3",
   "version": "3.8.5-final"
  },
  "orig_nbformat": 2,
  "kernelspec": {
   "name": "python3",
   "display_name": "Python 3.8.5 64-bit",
   "metadata": {
    "interpreter": {
     "hash": "99ef83dba59c01413a96cbe21a004133484d228fa25e27e78c7e986e48cc050d"
    }
   }
  }
 },
 "nbformat": 4,
 "nbformat_minor": 2,
 "cells": [
  {
   "cell_type": "code",
   "execution_count": null,
   "metadata": {},
   "outputs": [],
   "source": [
    "import numpy as np \n",
    "import pandas as pd\n",
    "import matplotlib.pyplot as plt\n",
    "import seaborn as sns\n",
    "from wordcloud import WordCloud"
   ]
  },
  {
   "cell_type": "code",
   "execution_count": null,
   "metadata": {},
   "outputs": [],
   "source": [
    "import os\n",
    "for dirname, _, filenames in os.walk('C:/Users/Pablo/bda/Analysis'):\n",
    "    for filename in filenames:\n",
    "        print(os.path.join(dirname, filename))"
   ]
  },
  {
   "cell_type": "code",
   "execution_count": null,
   "metadata": {},
   "outputs": [],
   "source": [
    "df = pd.read_csv(\"data.csv\", engine='python')\n",
    "df2 = pd.read_csv(\"genres.csv\", engine='python')"
   ]
  },
  {
   "cell_type": "code",
   "execution_count": null,
   "metadata": {},
   "outputs": [],
   "source": [
    "df.head(5)"
   ]
  },
  {
   "cell_type": "code",
   "execution_count": null,
   "metadata": {},
   "outputs": [],
   "source": [
    "df.columns"
   ]
  },
  {
   "cell_type": "code",
   "execution_count": null,
   "metadata": {},
   "outputs": [],
   "source": [
    "df.hist(figsize = (20,20))\n",
    "plt.show()"
   ]
  },
  {
   "cell_type": "code",
   "execution_count": null,
   "metadata": {},
   "outputs": [],
   "source": [
    "category1 = ['acousticness','danceability','energy', 'explicit',\n",
    "       'instrumentalness', 'popularity']"
   ]
  },
  {
   "cell_type": "code",
   "execution_count": null,
   "metadata": {},
   "outputs": [],
   "source": [
    "plt.figure(figsize=(9, 3))\n",
    "sns.set(style=\"whitegrid\")\n",
    "x = df.groupby(\"artists\")[\"popularity\"].sum().sort_values(ascending=False).head(20)\n",
    "ax = sns.barplot(x.index, x)\n",
    "ax.set_title('Most Popular Artists By Sum')\n",
    "ax.set_ylabel('Popularity')\n",
    "ax.set_xlabel('Artists')\n",
    "plt.xticks(rotation = 90)"
   ]
  },
  {
   "cell_type": "code",
   "execution_count": null,
   "metadata": {},
   "outputs": [],
   "source": [
    "plt.figure(figsize=(16, 8))\n",
    "sns.set(style=\"whitegrid\")\n",
    "columns = [\"acousticness\",\"danceability\",\"energy\",\"speechiness\",\"valence\"]\n",
    "for col in columns:\n",
    "    x = df.groupby(\"year\")[col].mean()\n",
    "    ax= sns.lineplot(x=x.index,y=x,label=col)\n",
    "ax.set_title('Audio characteristics over year')\n",
    "ax.set_ylabel('Measure')\n",
    "ax.set_xlabel('Year')"
   ]
  },
  {
   "cell_type": "code",
   "execution_count": null,
   "metadata": {},
   "outputs": [],
   "source": [
    "g = sns.scatterplot(x=df[\"duration_ms\"]/60000, y=\"popularity\",\n",
    "                hue=\"year\",\n",
    "                palette=\"ch:rot=-0.2,dark=0.3\",\n",
    "                sizes=(20, 200), linewidth=0,\n",
    "                data=df)\n",
    "g.legend(loc='upper left', bbox_to_anchor=(1, 0.5))\n",
    "g.set(xlabel = 'Duration (in mins)')"
   ]
  },
  {
   "cell_type": "code",
   "execution_count": null,
   "metadata": {},
   "outputs": [],
   "source": [
    "df2 = df2.set_index(\"genres\")\n",
    "max_words = 200\n",
    "wordcloud = WordCloud(width = 800, height = 800, \n",
    "                background_color ='white', max_words = max_words, colormap=\"viridis\",\n",
    "                min_font_size = 10).generate(\" \".join(str(v) for v in df2.index))\n",
    "\n",
    "plt.figure(figsize=(10, 10))\n",
    "plt.imshow(wordcloud)\n",
    "plt.axis(\"off\") \n",
    "plt.tight_layout(pad = 0)\n",
    "plt.title(f\"Top {max_words} most popular genres\")\n",
    "plt.show()"
   ]
  },
  {
   "cell_type": "code",
   "execution_count": null,
   "metadata": {},
   "outputs": [],
   "source": []
  }
 ]
}